{
 "cells": [
  {
   "cell_type": "code",
   "execution_count": 1,
   "id": "cebb9ba7-b499-4a1b-bcd0-23bbd6ae2fa0",
   "metadata": {},
   "outputs": [],
   "source": [
    "import matplotlib.pyplot as plt\n",
    "import matplotlib as mpl\n",
    "import matplotlib.ticker\n",
    "import numpy as np\n",
    "from scipy.sparse import spdiags\n",
    "import scipy as sp\n",
    "import pandas as pd\n",
    "from matplotlib import rc\n",
    "import csv\n",
    "import pylab as p\n",
    "from tqdm import tqdm"
   ]
  },
  {
   "cell_type": "code",
   "execution_count": 2,
   "id": "3df0dc26-003a-4521-8686-0a2cc00907f7",
   "metadata": {},
   "outputs": [],
   "source": [
    "#The scalar potential\n",
    "def V0(fields, parameters, rotation):\n",
    "    La = parameters['Lambdas']\n",
    "    ph = parameters['phases']\n",
    "    nd = np.matmul(parameters['NDW'],rotation)\n",
    "    return np.sum(La * np.cos(np.matmul(nd,fields) + ph))\n",
    "#Its first derivative\n",
    "def V1(fields, parameters, rotation):\n",
    "    La = parameters['Lambdas']\n",
    "    ph = parameters['phases']\n",
    "    nd = np.matmul(parameters['NDW'],rotation)\n",
    "    return np.matmul(-La * np.sin(np.matmul(nd,fields) + ph),nd)\n",
    "#Its second derivative\n",
    "def V2(fields, parameters, rotation):\n",
    "    La = parameters['Lambdas']\n",
    "    ph = parameters['phases']\n",
    "    nd = np.matmul(parameters['NDW'],rotation)\n",
    "    return np.matmul(nd.transpose(),np.matmul(np.diag(-La * np.cos(np.matmul(nd,fields) + ph)),nd))\n",
    "\n",
    "#Generate a random orthogonal matrix\n",
    "def Random_Rotation_Matrix(n):\n",
    "    r = np.random.rand(n,n)\n",
    "    return np.linalg.eig(r + r.transpose())[1]\n",
    "\n",
    "#This function defines the equation of motion\n",
    "def IVP_Function(t,state):\n",
    "    positions = state[:N]\n",
    "    velocities = state[N:]\n",
    "    position_dot = velocities\n",
    "    V1_eval = V1(positions, parameters, rotation)\n",
    "    velocity_dot_heavy = -V1_eval[:N_fixed] * (m2[N_fixed]/m2[:N_fixed]) -velocities[:N_fixed] * (2 * m2[N_fixed]**0.5)\n",
    "    velocity_dot_light = -V1_eval[N_fixed:] - 1.5 * velocities[N_fixed:]/t\n",
    "    velocity_dot = np.concatenate((velocity_dot_heavy,velocity_dot_light))\n",
    "    return np.concatenate((position_dot,velocity_dot))"
   ]
  },
  {
   "cell_type": "code",
   "execution_count": 3,
   "id": "64bdfe5d-3616-41ce-b965-ee210ef5d2fb",
   "metadata": {},
   "outputs": [],
   "source": [
    "#NUMBER OF AXIONS\n",
    "N = 10\n",
    "\n",
    "#TRIVIAL POTENTIAL\n",
    "Trivial = False\n",
    "#TRIVIAL INITIAL CONDITIONS:\n",
    "TrivialIC = False\n",
    "\n",
    "#FRACTIONAL DENSITY FLUCTUATION THRESHOLD FOR INTEGRATING OUT A PARTICLE\n",
    "threshold = 0.01\n",
    "\n",
    "#DOMAIN WALL NUMBERS (if not trivial)\n",
    "NDW_range = 1 #Absolute value of the maximum domain wall number\n",
    "p0 = 2/N #Probability that NDW = 0\n",
    "\n",
    "#INSTANTONS\n",
    "M = N**2 #Number of instantons\n",
    "MUV = 1 #Scale of the UV physics\n",
    "S0 = 200 #scale of the instanton actions\n",
    "\n",
    "#DECAY CONSTANTS\n",
    "f2 = np.random.rand(N) * (1 - Trivial) + Trivial #Squared decay constants\n",
    "R = Random_Rotation_Matrix(N) * (1 - Trivial) + Trivial * np.eye(N)\n",
    "\n",
    "#Domain-wall numbers if random:\n",
    "if Trivial:\n",
    "    M = N + 0\n",
    "    NDW_matrix = np.eye(N)\n",
    "    phase_list = np.zeros([1,N])[0]\n",
    "else:\n",
    "    NDW_matrix = np.random.choice(range(-NDW_range,NDW_range + 1), size = (M,N), p = np.concatenate((0.5 * NDW_range**-1 * (1 - p0) * np.ones(NDW_range),p0 * np.ones(1),0.5 * NDW_range**-1 * (1 - p0) * np.ones(NDW_range))))\n",
    "    phase_list = 2 * np.pi * np.random.rand(M)\n",
    "\n",
    "#Packaging these parameters into a dictionary for easy reference\n",
    "parameters = {'NDW' : NDW_matrix,\n",
    "             'phases' : phase_list,\n",
    "             'Lambdas' : MUV**4 * np.exp(-S0 * np.random.rand(M))}\n",
    "\n",
    "#Computing the rotation matrices\n",
    "rotation_rescale = np.matmul(R.transpose(),np.diag(f2**-0.5))\n",
    "rotation_rescale_inv = np.matmul(np.diag(f2**0.5),R)\n",
    "\n",
    "#We now pick the initial condition for the fields. For now, I will assume the fundamental fields to be randomly distributed from 0 to 2 pi\n",
    "theta_i = 2 * np.pi * np.random.rand(N) * (1 - TrivialIC) + 0.25 * np.pi * TrivialIC\n",
    "psi = np.matmul(rotation_rescale,theta_i)\n"
   ]
  },
  {
   "cell_type": "code",
   "execution_count": 133,
   "id": "c2afaa3b-919f-4568-93e9-47cef5cb19d0",
   "metadata": {},
   "outputs": [],
   "source": [
    "#Regenerate the initial conditions\n",
    "theta_i = 2 * np.pi * np.random.rand(N)\n",
    "psi = np.matmul(rotation_rescale,theta_i)"
   ]
  },
  {
   "cell_type": "code",
   "execution_count": 41,
   "id": "0cb2db80-b491-4919-b828-83ed5e204ecb",
   "metadata": {},
   "outputs": [],
   "source": [
    "#Adjust the threshold\n",
    "threshold = 0.001"
   ]
  },
  {
   "cell_type": "code",
   "execution_count": 4,
   "id": "f5140396-2023-45c8-96aa-1c9ba0114503",
   "metadata": {
    "scrolled": true
   },
   "outputs": [
    {
     "name": "stderr",
     "output_type": "stream",
     "text": [
      "  0%|                                                    | 0/10 [00:00<?, ?it/s]/var/folders/bj/2sxxmcw51675p0sgmwt6jctr0000gn/T/ipykernel_83127/1789437548.py:31: RuntimeWarning: invalid value encountered in scalar power\n",
      "  velocity_dot_heavy = -V1_eval[:N_fixed] * (m2[N_fixed]/m2[:N_fixed]) -velocities[:N_fixed] * (2 * m2[N_fixed]**0.5)\n",
      "100%|███████████████████████████████████████████| 10/10 [00:04<00:00,  2.24it/s]\n"
     ]
    }
   ],
   "source": [
    "#Set up the initial problem by rotating into a canonically normlized (local) mass basis\n",
    "N_steps = 10000 #Number of t_i sized steps to take before checking whether to integrate out a mode\n",
    "\n",
    "rho_list = np.zeros([N,3])#This keeps track of the energy densities, the time of decoupling, and the masses.\n",
    "\n",
    "N_fixed = 0 #This variable will count the number of fields which we have integrated out -- initialized at 0\n",
    "phi_fixed = np.zeros(0)\n",
    "\n",
    "#Calculating the rotation to the mass eigenbasis\n",
    "m2,S = np.linalg.eig(V2(psi, parameters, rotation_rescale))\n",
    "#Mass Eigenbasis field at its initial condition\n",
    "phi = np.matmul(S.transpose(),psi)\n",
    "\n",
    "#Rotation matrix to the mass eigenbasis, as required for computing the gradient of the potential wrt the mass basis fields\n",
    "rotation = np.matmul(rotation_rescale,S)\n",
    "\n",
    "#Use the mass eigenvalues as an estimate for the initial integration time i.e. t_0 ~ 1/m_max\n",
    "t_0 = 0.01/np.max(np.abs(m2)**0.5)\n",
    "\n",
    "#Now define the initial value problem:\n",
    "initial_state = np.concatenate((phi,np.zeros(N)))\n",
    "\n",
    "t_i,t_step = t_0 + 0,N_steps * t_0\n",
    "t_f = t_step + 0\n",
    "max_step = 10 * t_0\n",
    "\n",
    "with tqdm(total=N, position=0, leave=True) as pbar:\n",
    "    while N_fixed < N:\n",
    "        #Integrate the system for two decades beyond t = 1/m_max\n",
    "        solution = sp.integrate.solve_ivp(IVP_Function, [t_i,t_f], initial_state, max_step = max_step)\n",
    "        phi_of_t,phi_dot_of_t = solution.y[:N].transpose(),solution.y[N:].transpose()\n",
    "        \n",
    "        #We now compute the energy density using the mass eigenvalues computed\n",
    "        lt = len(solution.t)#//2\n",
    "        t_list,rho_m = solution.t[-lt:],np.zeros([lt,N])\n",
    "        m2,S = np.linalg.eig(V2(phi_of_t[-1], parameters, rotation))\n",
    "        idx = np.argsort(np.abs(m2))[::-1]\n",
    "        m2,S = m2[idx],S[:,idx]\n",
    "        rotation = np.matmul(rotation,S)\n",
    "        i = -lt\n",
    "        for t in solution.t[-lt:]:\n",
    "            phi,phi_dot = np.matmul(S.transpose(),phi_of_t[i]),np.matmul(S.transpose(),phi_dot_of_t[i])\n",
    "            delta_phi = V1(phi, parameters, rotation)\n",
    "            rho_m[i] = 0.5 * (phi_dot**2 + m2**-1 * delta_phi**2)\n",
    "            i += 1\n",
    "        # for j in range(N_fixed,N):\n",
    "        #     plt.plot(np.log10(t_list),np.log10(rho_m[:,j] * t_list**1.5),color = plt.colormaps['Dark2'](j))\n",
    "        FDF = np.std(rho_m[:,N_fixed] * t_list**1.5)/np.mean(rho_m[:,N_fixed] * t_list**1.5)\n",
    "        initial_state = np.concatenate((phi,phi_dot))\n",
    "        if any(np.imag(m2)) != 0:\n",
    "            break\n",
    "        if FDF > threshold:\n",
    "            t_i,t_f = t_f + 0,t_f + t_step\n",
    "        elif N_fixed < N:\n",
    "            rho_list[N_fixed,:] = np.array([rho_m[-1,N_fixed],t_f,m2[N_fixed]**0.5])\n",
    "            max_step = 0.01 * m2[N_fixed]**-0.5\n",
    "            N_fixed += 1\n",
    "            t_step = N_steps * 0.1 * max_step\n",
    "            t_i,t_f = t_f + 0,t_f + t_step\n",
    "            pbar.update(1)\n",
    "        else:\n",
    "            N_fixed += 1\n",
    "rho_normalized = np.zeros([N,2])\n",
    "for i in range(N):\n",
    "    rho_normalized[i] = [rho_list[i,2],rho_list[i,0] * (rho_list[i,1]/rho_list[-1,1])**1.5]"
   ]
  },
  {
   "cell_type": "code",
   "execution_count": 5,
   "id": "820e7d13-c5ea-44eb-ab84-07a83264abc2",
   "metadata": {},
   "outputs": [
    {
     "data": {
      "text/plain": [
       "Text(0, 0.5, 'log energy density [arbitrary units]')"
      ]
     },
     "execution_count": 5,
     "metadata": {},
     "output_type": "execute_result"
    },
    {
     "data": {
      "image/png": "[encoded data removed]",
      "text/plain": [
       "<Figure size 640x480 with 1 Axes>"
      ]
     },
     "metadata": {},
     "output_type": "display_data"
    }
   ],
   "source": [
    "ax=plt.subplot()\n",
    "plt.plot(np.log10(rho_normalized[:,0]),np.log10(rho_normalized[:,1]/rho_normalized[0,1]),'ro')\n",
    "plt.plot(np.log10(rho_normalized[:,0]),np.log10((rho_normalized[:,0]/rho_normalized[0,0])**0.5 ))\n",
    "ax.set_xlabel('log axion mass [arbitrary units]')\n",
    "ax.set_ylabel('log energy density [arbitrary units]')"
   ]
  }
 ],
 "metadata": {
  "kernelspec": {
   "display_name": "Python 3 (ipykernel)",
   "language": "python",
   "name": "python3"
  },
  "language_info": {
   "codemirror_mode": {
    "name": "ipython",
    "version": 3
   },
   "file_extension": ".py",
   "mimetype": "text/x-python",
   "name": "python",
   "nbconvert_exporter": "python",
   "pygments_lexer": "ipython3",
   "version": "3.12.3"
  }
 },
 "nbformat": 4,
 "nbformat_minor": 5
}
